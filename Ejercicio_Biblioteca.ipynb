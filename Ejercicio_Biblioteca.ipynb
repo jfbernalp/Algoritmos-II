{
  "nbformat": 4,
  "nbformat_minor": 0,
  "metadata": {
    "colab": {
      "provenance": [],
      "authorship_tag": "ABX9TyOSak3nMe+nmBgBOvH2EOOL",
      "include_colab_link": true
    },
    "kernelspec": {
      "name": "python3",
      "display_name": "Python 3"
    },
    "language_info": {
      "name": "python"
    }
  },
  "cells": [
    {
      "cell_type": "markdown",
      "metadata": {
        "id": "view-in-github",
        "colab_type": "text"
      },
      "source": [
        "<a href=\"https://colab.research.google.com/github/jfbernalp/Algoritmos-II/blob/main/Ejercicio_Biblioteca.ipynb\" target=\"_parent\"><img src=\"https://colab.research.google.com/assets/colab-badge.svg\" alt=\"Open In Colab\"/></a>"
      ]
    },
    {
      "cell_type": "markdown",
      "source": [
        "# Algoritmos 2\n",
        "Taller Final segundo corte\n",
        "\n",
        "# Biblioteca\n",
        "\n",
        "\n",
        "*   Dayanna Rodriguez\n",
        "*   Juan Felipe Bernal\n",
        "\n"
      ],
      "metadata": {
        "id": "re6s0Z1qy71I"
      }
    },
    {
      "cell_type": "code",
      "execution_count": 1,
      "metadata": {
        "id": "Il-MIikz7tNT"
      },
      "outputs": [],
      "source": [
        "# Creamo la clase libro\n",
        "class Libro:\n",
        "  def __init__(self,Autor,Titulo,Genero):\n",
        "    self.Autor = Autor\n",
        "    self.Titulo = Titulo\n",
        "    self.Genero = Genero\n",
        "    self.Disponible = True\n",
        "#Definimos un metodo para ver las caracteristicas del libro\n",
        "  def mostrar_libro (self):\n",
        "    print(f\"Titulo: {self.Titulo} \\n Autor: {self.Autor} \\n Genero: {self.Genero}\")\n",
        "#Definimos un metodo para Mostrar si el libro esta prestado\n",
        "  def estado_libro (self,Disponible):\n",
        "    self.Disponible = Disponible\n",
        "    estado = \"Disponible\" if Disponible else \"No Disponible\"\n",
        "    print(f\"El libro {self.Titulo} se encuentra {estado}\")\n",
        "\n",
        "#creamos la calse usuario con sus atributos\n",
        "class Usuario:\n",
        "  def __init__(self,Nombre,ID,Email):\n",
        "    self.Nombre = Nombre\n",
        "    self.ID = ID\n",
        "    self.Email = Email\n",
        "    self.Prestados = []\n",
        "# creamos un metodo para ver los datos del usuario\n",
        "  def mostrar_usuario (self):\n",
        "    print(f\"Nombre: {self.Nombre} \\n ID: {self.ID} \\n Email: {self.Email} \\n Libros En posecion: {self.Prestados}\")\n",
        "#definimos un metodo para prestar libro con atributo libro\n",
        "  def prestar_libro (self,Libro):\n",
        "# creamos una condicional para ver si el libro esta disponible con el argumento disponible\n",
        "    if Libro.Disponible:\n",
        "      self.Prestados.append(Libro)\n",
        "      Libro.estado_libro(False)\n",
        "      print(f\"El libro {Libro.Titulo} fue prestado a {self.Nombre}\")\n",
        "\n",
        "    else:\n",
        "      print(\"El libro no se encuentra disponible para prestamo\")\n",
        "\n",
        "  def devolver_libro(self,Libro):\n",
        "\n",
        "    if Libro in self.Prestados:\n",
        "      self.Prestados.remove(Libro)\n",
        "      Libro.estado_libro(True)\n",
        "      print(f\"El libro {Libro.Titulo} fue devuelto por {self.Nombre}\")\n",
        "\n",
        "    else:\n",
        "       print(\"El libro no se encuentra prestado\")"
      ]
    },
    {
      "cell_type": "markdown",
      "source": [
        "# Casos de uso"
      ],
      "metadata": {
        "id": "hP_nvq7Jyx9W"
      }
    },
    {
      "cell_type": "code",
      "source": [
        "#Creacion de libros y usuarios\n",
        "libro1 = Libro(\"GGM\",\"Cien años de soledad\",\"Novela\")\n",
        "\n",
        "libro2 = Libro(\"William Faulkner\",\"El ruido y la furia\",\"Novela\")\n",
        "\n",
        "usuario1 = Usuario(\"Juan Felipe Bernal\",1019011143,\"jfbernalp@gmail.com\")\n",
        "usuario2 = Usuario(\"Camilo Chaparro\",1019011132,\"camicha@gmail.com\")"
      ],
      "metadata": {
        "id": "ento4HtTBA6m"
      },
      "execution_count": 2,
      "outputs": []
    },
    {
      "cell_type": "code",
      "source": [
        "usuario1.prestar_libro (libro1)"
      ],
      "metadata": {
        "colab": {
          "base_uri": "https://localhost:8080/"
        },
        "id": "4R01vxeRGqN1",
        "outputId": "6cfa2069-ef40-41fd-b818-b34c063001d8"
      },
      "execution_count": null,
      "outputs": [
        {
          "output_type": "stream",
          "name": "stdout",
          "text": [
            "El libro Cien años de soledad se encuentr No Disponible\n",
            "El libro Cien años de soledad fue prestado a Juan Felipe Bernal\n"
          ]
        }
      ]
    },
    {
      "cell_type": "code",
      "source": [
        "usuario1.mostrar_usuario()"
      ],
      "metadata": {
        "colab": {
          "base_uri": "https://localhost:8080/"
        },
        "id": "afUgcmeQRdr3",
        "outputId": "9dfccc0b-ff3f-4ee7-84fa-310e1da34090"
      },
      "execution_count": null,
      "outputs": [
        {
          "output_type": "stream",
          "name": "stdout",
          "text": [
            "Nombre: Juan Felipe Bernal \n",
            " ID: 1019011143 \n",
            " Email: jfbernalp@gmail.com \n",
            " Libros En posecion: [<__main__.Libro object at 0x7af08fed74d0>]\n"
          ]
        }
      ]
    },
    {
      "cell_type": "code",
      "source": [
        "usuario2.prestar_libro(libro1)"
      ],
      "metadata": {
        "colab": {
          "base_uri": "https://localhost:8080/"
        },
        "id": "3GmscBAtyJoE",
        "outputId": "225eddfd-d007-4b24-f31d-acdba9736082"
      },
      "execution_count": null,
      "outputs": [
        {
          "output_type": "stream",
          "name": "stdout",
          "text": [
            "El libro no se encuentra disponible para prestamo\n"
          ]
        }
      ]
    },
    {
      "cell_type": "code",
      "source": [
        "usuario1.devolver_libro(libro1)"
      ],
      "metadata": {
        "colab": {
          "base_uri": "https://localhost:8080/"
        },
        "id": "c-ggVgxdySjd",
        "outputId": "8bff37fb-79f2-4f65-e2be-fffc9a8e7040"
      },
      "execution_count": null,
      "outputs": [
        {
          "output_type": "stream",
          "name": "stdout",
          "text": [
            "El libro Cien años de soledad se encuentr Disponible\n",
            "El libro Cien años de soledad fue devuelto por Juan Felipe Bernal\n"
          ]
        }
      ]
    },
    {
      "cell_type": "code",
      "source": [
        "usuario2.prestar_libro(libro1)\n",
        "usuario2.prestar_libro(libro2)"
      ],
      "metadata": {
        "colab": {
          "base_uri": "https://localhost:8080/"
        },
        "id": "A4zoIV0JyY88",
        "outputId": "60c75fba-a3d7-425e-cf30-097fef1af823"
      },
      "execution_count": null,
      "outputs": [
        {
          "output_type": "stream",
          "name": "stdout",
          "text": [
            "El libro no se encuentra disponible para prestamo\n",
            "El libro El ruido y la furia se encuentr No Disponible\n",
            "El libro El ruido y la furia fue prestado a Camilo Chaparro\n"
          ]
        }
      ]
    },
    {
      "cell_type": "code",
      "source": [
        "usuario2.mostrar_usuario()"
      ],
      "metadata": {
        "colab": {
          "base_uri": "https://localhost:8080/"
        },
        "id": "O91cSPryydqY",
        "outputId": "d6478711-0f1e-44c9-df90-929da805fb26"
      },
      "execution_count": null,
      "outputs": [
        {
          "output_type": "stream",
          "name": "stdout",
          "text": [
            "Nombre: Camilo Chaparro \n",
            " ID: 1019011132 \n",
            " Email: camicha@gmail.com \n",
            " Libros En posecion: [<__main__.Libro object at 0x7af08fed74d0>, <__main__.Libro object at 0x7af0c037ac90>]\n"
          ]
        }
      ]
    },
    {
      "cell_type": "markdown",
      "source": [
        "# Extension de usabilidad\n",
        "\n",
        "tomado del tutorial: https://www.youtube.com/watch?v=tZSr-CO3ztg"
      ],
      "metadata": {
        "id": "ji9JlDlX56_d"
      }
    },
    {
      "cell_type": "code",
      "source": [
        "#Calse biblioteca que contendra catalogo de libros, usuarios, y bibliotecarios\n",
        "\n",
        "class Biblioteca:\n",
        "  def __init__(self):\n",
        "    self.libros = []\n",
        "    self.usuarios =[]\n",
        "    self.bibliotecarios=[]\n"
      ],
      "metadata": {
        "id": "EmWGCVjV7PxS"
      },
      "execution_count": null,
      "outputs": []
    }
  ]
}