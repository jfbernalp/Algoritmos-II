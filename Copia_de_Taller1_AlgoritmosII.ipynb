{
  "nbformat": 4,
  "nbformat_minor": 0,
  "metadata": {
    "colab": {
      "provenance": []
    },
    "kernelspec": {
      "name": "python3",
      "display_name": "Python 3"
    },
    "language_info": {
      "name": "python"
    }
  },
  "cells": [
    {
      "cell_type": "markdown",
      "source": [
        "## **Algoritmos II**\n",
        "Clases, atributos y métodos\n",
        "\n",
        "---\n",
        "\n",
        "\n",
        "\n",
        "**Estudiantes**\n",
        "\n",
        "*   Juan Felipe Bernal\n",
        "*   Dayana Rodriguez\n",
        "\n",
        "\n",
        "\n",
        "### **Ejercicios**"
      ],
      "metadata": {
        "id": "cPuj47belnlF"
      }
    },
    {
      "cell_type": "markdown",
      "source": [
        "1. Crea una clase llamada Persona que tenga atributos para el nombre y la edad. Implementa métodos para que la persona pueda presentarse (mostrando su nombre y edad) y para que pueda cumplir años (aumentando su edad en 1)"
      ],
      "metadata": {
        "id": "cZTIrJf4lm4V"
      }
    },
    {
      "cell_type": "code",
      "source": [
        "# Creación de la clase\n",
        "class Persona:\n",
        "    def __init__(self, nombre, edad):\n",
        "        self.nombre = nombre\n",
        "        self.edad = edad\n",
        "\n",
        "    def presentarse(self):\n",
        "        print(f\"Mucho gusto mi nombre es {self.nombre} y tengo {self.edad} años.\")\n",
        "\n",
        "    def cumplir_anios(self):\n",
        "        self.edad += 1\n",
        "        print(f\"Y hoy estoy cumpliendo {self.edad} años.\")\n",
        "\n",
        "# Datos usuario\n",
        "nombre_usuario = input(\"Ingrese su nombre: \")\n",
        "edad_usuario = int(input(\"Ingrese su edad: \"))\n",
        "\n",
        "persona1 = Persona(nombre_usuario, edad_usuario)\n",
        "persona1.presentarse()\n",
        "persona1.cumplir_anios()"
      ],
      "metadata": {
        "colab": {
          "base_uri": "https://localhost:8080/"
        },
        "id": "EX8UAhFSlmrO",
        "outputId": "ed666f1e-823f-4b25-dd1f-85f4e66c57f3"
      },
      "execution_count": null,
      "outputs": [
        {
          "output_type": "stream",
          "name": "stdout",
          "text": [
            "Ingrese su nombre: Luz\n",
            "Ingrese su edad: 58\n",
            "Mucho gusto mi nombre es Luz y tengo 58 años.\n",
            "Y hoy estoy cumpliendo 59 años.\n"
          ]
        }
      ]
    },
    {
      "cell_type": "markdown",
      "source": [
        "2. Crea una clase llamada Coche que tenga atributos para la marca, el modelo y el estado (encendido o apagado). Implementa métodos para encender el coche, apagarlo y verificar su estado actual."
      ],
      "metadata": {
        "id": "_SUCHK3Jlmgd"
      }
    },
    {
      "cell_type": "code",
      "source": [
        "# Creación de la clase\n",
        "\n",
        "class Coche:\n",
        "    def __init__(self, marca, modelo, encendido):\n",
        "        self.marca = marca\n",
        "        self.modelo = modelo\n",
        "        self.encendido = encendido\n",
        "\n",
        "    def encender(self):\n",
        "        if not self.encendido:\n",
        "            self.encendido = True\n",
        "            print(\"El coche se acaba de encender.\")\n",
        "\n",
        "    def apagar(self):\n",
        "        if self.encendido:\n",
        "            self.encendido = False\n",
        "            print(\"El coche se ha apagado por completo.\")\n",
        "\n",
        "    def estado(self):\n",
        "        print(\"Encendido\" if self.encendido else \"Apagado\")\n",
        "\n",
        "# Datos usuario\n",
        "marca = input(\"Ingrese la marca del coche: \")\n",
        "modelo = input(\"Ingrese el modelo del coche: \")\n",
        "estado_inicial = input(\"¿El coche está encendido? (si/no): \").strip().lower() == \"si\"\n",
        "\n",
        "coche_1 = Coche(marca, modelo, estado_inicial)\n",
        "print(\"Estado inicial:\", end=\" \")\n",
        "coche_1.estado()\n",
        "\n",
        "action_prompt = \"¿Deseas apagar el coche? (si/no): \" if estado_inicial else \"¿Deseas encender el coche? (si/no): \"\n",
        "accion = input(action_prompt).strip().lower()\n",
        "if accion == \"si\":\n",
        "    if estado_inicial:\n",
        "        coche_1.apagar()\n",
        "    else:\n",
        "        coche_1.encender()\n",
        "\n",
        "print(\"Estado final:\", end=\" \")\n",
        "coche_1.estado()"
      ],
      "metadata": {
        "colab": {
          "base_uri": "https://localhost:8080/"
        },
        "id": "t6_-8ln4lmP2",
        "outputId": "32f8c1b3-ee26-43f1-bf6f-1b4c4361364c"
      },
      "execution_count": null,
      "outputs": [
        {
          "output_type": "stream",
          "name": "stdout",
          "text": [
            "Ingrese la marca del coche: Mercedez-Benz\n",
            "Ingrese el modelo del coche: Blc\n",
            "¿El coche está encendido? (si/no): si\n",
            "Estado inicial: Encendido\n",
            "¿Deseas apagar el coche? (si/no): si\n",
            "El coche se ha apagado por completo.\n",
            "Estado final: Apagado\n"
          ]
        }
      ]
    },
    {
      "cell_type": "markdown",
      "source": [
        "3. Crea una clase llamada Rectangulo que tenga atributos para el ancho y el alto. Implementa métodos para calcular el área, el perímetro y para verificar si el rectángulo es un cuadrado (es decir, si el ancho y el alto son iguales)."
      ],
      "metadata": {
        "id": "ZfedmnE0ll8m"
      }
    },
    {
      "cell_type": "code",
      "source": [
        "# Creación de la clase\n",
        "class Rectangulo:\n",
        "    def __init__(self, ancho, alto):\n",
        "        self.ancho = ancho\n",
        "        self.alto = alto\n",
        "\n",
        "    def area(self):\n",
        "        print(f\"Área: {self.ancho * self.alto}\")\n",
        "\n",
        "    def perimetro(self):\n",
        "        print(f\"Perímetro: {2 * (self.ancho + self.alto)}\")\n",
        "\n",
        "    def cuadrado(self):\n",
        "        print(\"Es un cuadrado.\" if self.ancho == self.alto else \"Es un rectangulo.\")\n",
        "\n",
        "# Datos usuario\n",
        "ancho = float(input(\"Ingrese el ancho del rectángulo: \"))\n",
        "alto = float(input(\"Ingrese el alto del rectángulo: \"))\n",
        "\n",
        "rectangulo = Rectangulo(ancho, alto)\n",
        "rectangulo.area()\n",
        "rectangulo.perimetro()\n",
        "rectangulo.cuadrado()"
      ],
      "metadata": {
        "colab": {
          "base_uri": "https://localhost:8080/"
        },
        "id": "jbnXfzuyllS2",
        "outputId": "94aa6562-e6d8-4637-9e45-1833b35cb781"
      },
      "execution_count": null,
      "outputs": [
        {
          "output_type": "stream",
          "name": "stdout",
          "text": [
            "Ingrese el ancho del rectángulo: 5.58\n",
            "Ingrese el alto del rectángulo: 5.74\n",
            "Área: 32.0292\n",
            "Perímetro: 22.64\n",
            "Es un rectangulo.\n"
          ]
        }
      ]
    },
    {
      "cell_type": "markdown",
      "source": [
        "4. Crea una clase llamada Libro que tenga atributos para el título, el autor y el número de páginas. Implementa métodos para mostrar la información completa del libro y para verificar si es un libro largo (más de 300 páginas)."
      ],
      "metadata": {
        "id": "lcxnkVgLmp8y"
      }
    },
    {
      "cell_type": "code",
      "source": [
        "class Libro:\n",
        "    def __init__(self, titulo, autor, paginas):\n",
        "        self.titulo = titulo\n",
        "        self.autor = autor\n",
        "        self.paginas = paginas\n",
        "\n",
        "    def informacion_libro(self):\n",
        "        print(f\"Título: {self.titulo}, Autor: {self.autor}, Páginas: {self.paginas}\")\n",
        "\n",
        "    def volumen_libro(self):\n",
        "        print(\"El libro es largo.\" if self.paginas > 300 else \"El libro es corto.\")\n",
        "\n",
        "# Datos usuario\n",
        "titulo = input(\"¿Cual es el título del libro? Rta: \")\n",
        "autor = input(\"Dinos su autor: \")\n",
        "paginas = int(input(\"¿Cuántas páginas tiene el libro? Rta: \"))\n",
        "\n",
        "libro_1 = Libro(titulo, autor, paginas)\n",
        "libro_1.informacion_libro()\n",
        "libro_1.volumen_libro()\n"
      ],
      "metadata": {
        "colab": {
          "base_uri": "https://localhost:8080/"
        },
        "id": "0Bs2dKuLmuNJ",
        "outputId": "7157aee5-0d89-4fb4-9f00-21d7440beb36"
      },
      "execution_count": null,
      "outputs": [
        {
          "output_type": "stream",
          "name": "stdout",
          "text": [
            "¿Cual es el título del libro? Rta: Orgullo y prejuicio\n",
            "Dinos su autor: Anne\n",
            "¿Cuántas páginas tiene el libro? Rta: 301\n",
            "Título: Orgullo y prejuicio, Autor: Anne, Páginas: 301\n",
            "El libro es largo.\n"
          ]
        }
      ]
    },
    {
      "cell_type": "markdown",
      "source": [
        "# Punto 5\n",
        "Crea una clase llamada CuentaBancaria que tenga atributos para el titular, el saldo y un límite de retiro. Implementa métodos para depositar dinero, retirar dinero (sin superar el saldo ni el límite de retiro), mostrar el saldo actual y cambiar el límite de retiro."
      ],
      "metadata": {
        "id": "TkThCTuG-sRB"
      }
    },
    {
      "cell_type": "code",
      "execution_count": null,
      "metadata": {
        "id": "H9_PrptB7J6z"
      },
      "outputs": [],
      "source": [
        "class cuenta_bancaria:\n",
        "  def __init__(self,titular,saldo = 0):\n",
        "    self.titualar = titular\n",
        "    self.saldo = saldo\n",
        "\n",
        "  def depositar (self, cantidad):\n",
        "    if cantidad >= 0:\n",
        "      self.saldo += cantidad\n",
        "      print(f'Has depositado {cantidad}, tu nuevo saldo es: ${self.saldo}')\n",
        "    else:\n",
        "      print('La cantidad depositada debe ser mayor a 0')\n",
        "\n",
        "  def retirar(self, cantidad):\n",
        "        if cantidad > 0:\n",
        "            if cantidad <= self.saldo:\n",
        "                self.saldo -= cantidad\n",
        "                print(f\"Has retirado ${cantidad}. Nuevo saldo: ${self.saldo}\")\n",
        "            else:\n",
        "                print(\"Fondos insuficientes.\")\n",
        "        else:\n",
        "            print(\"La cantidad a retirar debe ser mayor que cero.\")\n",
        "\n",
        "  def mostrar_saldo(self):\n",
        "      print(f\"El saldo actual de {self.titualar} es: ${self.saldo}\")"
      ]
    },
    {
      "cell_type": "code",
      "source": [
        "cliente1 =cuenta_bancaria('Juan Felipe Bernal')"
      ],
      "metadata": {
        "id": "-T4T9se3-8YE"
      },
      "execution_count": null,
      "outputs": []
    },
    {
      "cell_type": "code",
      "source": [
        "cliente1.depositar(5000)"
      ],
      "metadata": {
        "colab": {
          "base_uri": "https://localhost:8080/"
        },
        "id": "hwfZnCNM--eL",
        "outputId": "67820224-cca9-4000-8fc1-7e5a9f0f2fe6"
      },
      "execution_count": null,
      "outputs": [
        {
          "output_type": "stream",
          "name": "stdout",
          "text": [
            "Has depositado 5000, tu nuevo saldo es: $5000\n"
          ]
        }
      ]
    },
    {
      "cell_type": "code",
      "source": [
        "cliente1.retirar(1000)"
      ],
      "metadata": {
        "colab": {
          "base_uri": "https://localhost:8080/"
        },
        "id": "t4Ug8kx9_AOT",
        "outputId": "9d615be6-5344-406a-ac21-7982a3fc9bee"
      },
      "execution_count": null,
      "outputs": [
        {
          "output_type": "stream",
          "name": "stdout",
          "text": [
            "Has retirado $1000. Nuevo saldo: $4000\n"
          ]
        }
      ]
    },
    {
      "cell_type": "code",
      "source": [
        "cliente1.mostrar_saldo()"
      ],
      "metadata": {
        "colab": {
          "base_uri": "https://localhost:8080/"
        },
        "id": "EKjhJBWH_CAY",
        "outputId": "76e728e6-fea3-481d-d7de-5aed0538f99b"
      },
      "execution_count": null,
      "outputs": [
        {
          "output_type": "stream",
          "name": "stdout",
          "text": [
            "El saldo actual de Juan Felipe Bernal es: $4000\n"
          ]
        }
      ]
    },
    {
      "cell_type": "code",
      "source": [
        "cliente1.depositar(4000)"
      ],
      "metadata": {
        "colab": {
          "base_uri": "https://localhost:8080/"
        },
        "id": "l_1UfdOG_ECD",
        "outputId": "8f9c04d9-f9f7-46be-e18d-e6a00c6bd2ee"
      },
      "execution_count": null,
      "outputs": [
        {
          "output_type": "stream",
          "name": "stdout",
          "text": [
            "Has depositado 4000, tu nuevo saldo es: $8000\n"
          ]
        }
      ]
    },
    {
      "cell_type": "markdown",
      "source": [
        "# Punto 6\n",
        "Crea una clase llamada Estudiante que tenga atributos para el nombre, la\n",
        "edad y una lista de notas. Implementa métodos para agregar notas, calcular el promedio de las notas y mostrar la información completa del estudiante (nombre, edad y promedio).\n"
      ],
      "metadata": {
        "id": "nDehjBrM_ONF"
      }
    },
    {
      "cell_type": "code",
      "source": [
        "class Estudiante:\n",
        "  def __init__(self,nombre,edad,notas):\n",
        "    self.nombre = nombre\n",
        "    self.edad = edad\n",
        "    self.notas = []\n",
        "\n",
        "  def agregar_notas(self,nota):\n",
        "    self.notas.append(nota)\n",
        "    print(f\"Nota {nota} agregada, las notas del estudiante son {self.notas}\")\n",
        "\n",
        "  def promedio_notas(self):\n",
        "    if self.notas:\n",
        "      promedio = sum(self.notas)/len(self.notas)\n",
        "      return promedio\n",
        "    else:\n",
        "      return 0\n",
        "\n",
        "  def mostrar_estudiante (self):\n",
        "    promedio = self.promedio_notas()\n",
        "    print(f\"El estudiante {self.nombre} tiene {self.edad} años y registra las siguientes notas: \\n {self.notas} \\n Promedio: {promedio}\")"
      ],
      "metadata": {
        "id": "tGXhrOw1_Uox"
      },
      "execution_count": null,
      "outputs": []
    },
    {
      "cell_type": "code",
      "source": [
        "# Pruebas\n",
        "\n",
        "Estudiante1 = Estudiante (\"Juan Felipe Bernal\",38,0)"
      ],
      "metadata": {
        "id": "hIlAcQCDBtk8"
      },
      "execution_count": null,
      "outputs": []
    },
    {
      "cell_type": "code",
      "source": [
        "Estudiante1.agregar_notas(5)\n",
        "Estudiante1.agregar_notas(3.5)\n"
      ],
      "metadata": {
        "colab": {
          "base_uri": "https://localhost:8080/"
        },
        "id": "jGR7RTqnB1bz",
        "outputId": "37345803-f3fa-4591-a328-642d38b602ac"
      },
      "execution_count": null,
      "outputs": [
        {
          "output_type": "stream",
          "name": "stdout",
          "text": [
            "Nota 5 agregada, las notas del estudiante son [5]\n",
            "Nota 3.5 agregada, las notas del estudiante son [5, 3.5]\n"
          ]
        }
      ]
    },
    {
      "cell_type": "code",
      "source": [
        "Estudiante1.promedio_notas()"
      ],
      "metadata": {
        "colab": {
          "base_uri": "https://localhost:8080/"
        },
        "id": "3bgghXFzCARg",
        "outputId": "d275713b-ed9f-47a8-ba06-ab915b3a5518"
      },
      "execution_count": null,
      "outputs": [
        {
          "output_type": "execute_result",
          "data": {
            "text/plain": [
              "4.25"
            ]
          },
          "metadata": {},
          "execution_count": 17
        }
      ]
    },
    {
      "cell_type": "code",
      "source": [
        "Estudiante1.mostrar_estudiante()"
      ],
      "metadata": {
        "colab": {
          "base_uri": "https://localhost:8080/"
        },
        "id": "Z6zC7BhsD2Hq",
        "outputId": "84ec43e5-2875-48bb-da73-32aa475510e9"
      },
      "execution_count": null,
      "outputs": [
        {
          "output_type": "stream",
          "name": "stdout",
          "text": [
            "El estudiante Juan Felipe Bernal tiene 38 años y registra las siguientes notas: \n",
            " [5, 3.5] \n",
            " Promedio: 4.25\n"
          ]
        }
      ]
    },
    {
      "cell_type": "markdown",
      "source": [
        "## Punto 7\n",
        "Crea una clase llamada Circulo que tenga un atributo para el radio.\n",
        "Implementa métodos para calcular el área y el perímetro del círculo, usando el valor de π (pi) de la librería math."
      ],
      "metadata": {
        "id": "V8HU6-q_EL-2"
      }
    },
    {
      "cell_type": "code",
      "source": [
        "# Importo la funcion pi de la libreria math\n",
        "import math"
      ],
      "metadata": {
        "id": "Q_Bn9L4eEbAf"
      },
      "execution_count": null,
      "outputs": []
    },
    {
      "cell_type": "code",
      "source": [
        "class Circulo:\n",
        "  def __init__(self,radio):\n",
        "    self.radio = radio\n",
        "\n",
        "  def area_circulo(self):\n",
        "    area = math.pi*self.radio**2\n",
        "    return area\n",
        "  def perimetro_circulo(self):\n",
        "    perimetro = 2*math.pi*self.radio\n",
        "    return perimetro"
      ],
      "metadata": {
        "id": "1Aja-cMwEinE"
      },
      "execution_count": null,
      "outputs": []
    },
    {
      "cell_type": "code",
      "source": [
        "# Pruebas\n",
        "circulo1 = Circulo(5)"
      ],
      "metadata": {
        "id": "BVZXhB9tFdlZ"
      },
      "execution_count": null,
      "outputs": []
    },
    {
      "cell_type": "code",
      "source": [
        "circulo1.perimetro_circulo()"
      ],
      "metadata": {
        "colab": {
          "base_uri": "https://localhost:8080/"
        },
        "id": "7DwaLfKBFhwZ",
        "outputId": "d7056ce2-b479-461c-ea25-8b3cb063abb5"
      },
      "execution_count": null,
      "outputs": [
        {
          "output_type": "execute_result",
          "data": {
            "text/plain": [
              "31.41592653589793"
            ]
          },
          "metadata": {},
          "execution_count": 35
        }
      ]
    },
    {
      "cell_type": "code",
      "source": [
        "circulo1.area_circulo()"
      ],
      "metadata": {
        "colab": {
          "base_uri": "https://localhost:8080/"
        },
        "id": "4Iy20a1bFmRy",
        "outputId": "646faa3c-6070-4151-a5a3-74cfff582329"
      },
      "execution_count": null,
      "outputs": [
        {
          "output_type": "execute_result",
          "data": {
            "text/plain": [
              "78.53981633974483"
            ]
          },
          "metadata": {},
          "execution_count": 36
        }
      ]
    },
    {
      "cell_type": "markdown",
      "source": [
        "# Punto 8\n",
        "Crea una clase llamada Tienda que tenga atributos para el nombre de la tienda y una lista de productos. Implementa métodos para agregar productos, mostrar todos los productos disponibles y buscar un producto específico por su nombre."
      ],
      "metadata": {
        "id": "r6NbpX1nGJBP"
      }
    },
    {
      "cell_type": "code",
      "source": [
        "class Tienda:\n",
        "  def __init__(self,nombre,productos):\n",
        "    self.nombre = nombre\n",
        "    self.productos = []\n",
        "\n",
        "  def agregar_productos(self,producto):\n",
        "    self.productos.append(producto)\n",
        "    print(f\"El producto {producto} ha sido agregado exitosamente\")\n",
        "\n",
        "  def mostrat_productos (self):\n",
        "    print(f\"Productos disponibles: \\n{self.productos}\")\n",
        "\n",
        "  def buscar_producto (self, nombre_producto):\n",
        "    if nombre_producto in self.productos:\n",
        "      print(f\"El producto {nombre_producto} se encuentra disponible\")\n",
        "    else:\n",
        "      print(f\"No se encuentra el producto {nombre_producto}\")"
      ],
      "metadata": {
        "id": "kYr3-Kr7GAfO"
      },
      "execution_count": null,
      "outputs": []
    },
    {
      "cell_type": "code",
      "source": [
        "tienda1 = Tienda (\"Biomarket\",None)"
      ],
      "metadata": {
        "id": "FjHe-WvkH7R0"
      },
      "execution_count": null,
      "outputs": []
    },
    {
      "cell_type": "code",
      "source": [
        "tienda1.agregar_productos(\"Carne 500g\")"
      ],
      "metadata": {
        "colab": {
          "base_uri": "https://localhost:8080/"
        },
        "id": "9CzdDPeEIImn",
        "outputId": "84feb574-da07-4198-fa02-875dc7d0cfd1"
      },
      "execution_count": null,
      "outputs": [
        {
          "output_type": "stream",
          "name": "stdout",
          "text": [
            "El producto Carne 500g ha sido agregado exitosamente\n"
          ]
        }
      ]
    },
    {
      "cell_type": "code",
      "source": [
        "tienda1.mostrat_productos()"
      ],
      "metadata": {
        "colab": {
          "base_uri": "https://localhost:8080/"
        },
        "id": "Iv3XpiKLIQvY",
        "outputId": "1288090f-5cd6-42d2-fbfb-0141d924f366"
      },
      "execution_count": null,
      "outputs": [
        {
          "output_type": "stream",
          "name": "stdout",
          "text": [
            "Productos disponibles: \n",
            "['Carne 500g']\n"
          ]
        }
      ]
    },
    {
      "cell_type": "code",
      "source": [
        "tienda1.agregar_productos(\"Pollo 500 gr\")"
      ],
      "metadata": {
        "colab": {
          "base_uri": "https://localhost:8080/"
        },
        "id": "PZchRMlfIVRK",
        "outputId": "23d4e9e4-3b24-415a-c087-61404a50f818"
      },
      "execution_count": null,
      "outputs": [
        {
          "output_type": "stream",
          "name": "stdout",
          "text": [
            "El producto Pollo 500 gr ha sido agregado exitosamente\n"
          ]
        }
      ]
    },
    {
      "cell_type": "code",
      "source": [
        "tienda1.mostrat_productos()"
      ],
      "metadata": {
        "colab": {
          "base_uri": "https://localhost:8080/"
        },
        "id": "wfRaD85iIa8k",
        "outputId": "24b1c84d-3014-4434-f5dc-51ff91a256c9"
      },
      "execution_count": null,
      "outputs": [
        {
          "output_type": "stream",
          "name": "stdout",
          "text": [
            "Productos disponibles: \n",
            "['Carne 500g', 'Pollo 500 gr']\n"
          ]
        }
      ]
    },
    {
      "cell_type": "code",
      "source": [
        "tienda1.buscar_producto(\"Cerdo 500 gr\")"
      ],
      "metadata": {
        "colab": {
          "base_uri": "https://localhost:8080/"
        },
        "id": "v_XcwqEmIfzz",
        "outputId": "ccc17d81-fd1d-486f-8aee-717565f2f059"
      },
      "execution_count": null,
      "outputs": [
        {
          "output_type": "stream",
          "name": "stdout",
          "text": [
            "No se encuentra el producto Cerdo 500 gr\n"
          ]
        }
      ]
    },
    {
      "cell_type": "code",
      "source": [
        "tienda1.buscar_producto(\"Pollo 500 gr\")"
      ],
      "metadata": {
        "colab": {
          "base_uri": "https://localhost:8080/"
        },
        "id": "-XBWCTzHIj0f",
        "outputId": "74832aec-20b2-4a42-9b33-af1eedb84916"
      },
      "execution_count": null,
      "outputs": [
        {
          "output_type": "stream",
          "name": "stdout",
          "text": [
            "El producto Pollo 500 gr se encuentra disponible\n"
          ]
        }
      ]
    }
  ]
}