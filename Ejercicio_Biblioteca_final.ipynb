{
  "nbformat": 4,
  "nbformat_minor": 0,
  "metadata": {
    "colab": {
      "provenance": [],
      "authorship_tag": "ABX9TyPUMjjYk2vGhmhSesvbS36E",
      "include_colab_link": true
    },
    "kernelspec": {
      "name": "python3",
      "display_name": "Python 3"
    },
    "language_info": {
      "name": "python"
    }
  },
  "cells": [
    {
      "cell_type": "markdown",
      "metadata": {
        "id": "view-in-github",
        "colab_type": "text"
      },
      "source": [
        "<a href=\"https://colab.research.google.com/github/jfbernalp/Algoritmos-II/blob/main/Ejercicio_Biblioteca_final.ipynb\" target=\"_parent\"><img src=\"https://colab.research.google.com/assets/colab-badge.svg\" alt=\"Open In Colab\"/></a>"
      ]
    },
    {
      "cell_type": "markdown",
      "source": [
        "# Algoritmos 2\n",
        "Taller Final segundo corte\n",
        "\n",
        "# Biblioteca\n",
        "\n",
        "\n",
        "*   Dayanna Rodriguez\n",
        "*   Juan Felipe Bernal\n",
        "\n"
      ],
      "metadata": {
        "id": "re6s0Z1qy71I"
      }
    },
    {
      "cell_type": "code",
      "execution_count": null,
      "metadata": {
        "id": "Il-MIikz7tNT"
      },
      "outputs": [],
      "source": [
        "# Creamo la clase libro\n",
        "class Libro:\n",
        "  def __init__(self,Autor,Titulo,Genero):\n",
        "    self.Autor = Autor\n",
        "    self.Titulo = Titulo\n",
        "    self.Genero = Genero\n",
        "    self.Disponible = True\n",
        "#Definimos un metodo para ver las caracteristicas del libro\n",
        "  def mostrar_libro (self):\n",
        "    print(f\"Titulo: {self.Titulo} \\n Autor: {self.Autor} \\n Genero: {self.Genero}\")\n",
        "#Definimos un metodo para Mostrar si el libro esta prestado\n",
        "  def estado_libro (self,Disponible):\n",
        "    self.Disponible = Disponible\n",
        "    estado = \"Disponible\" if Disponible else \"No Disponible\"\n",
        "    print(f\"El libro {self.Titulo} se encuentra {estado}\")\n",
        "\n",
        "#creamos la calse usuario con sus atributos\n",
        "class Usuario:\n",
        "  def __init__(self,Nombre,ID,Email):\n",
        "    self.Nombre = Nombre\n",
        "    self.ID = ID\n",
        "    self.Email = Email\n",
        "    self.Prestados = []\n",
        "# creamos un metodo para ver los datos del usuario\n",
        "  def mostrar_usuario (self):\n",
        "    print(f\"Nombre: {self.Nombre} \\n ID: {self.ID} \\n Email: {self.Email} \\n Libros En posecion: {self.Prestados}\")\n",
        "#definimos un metodo para prestar libro con atributo libro\n",
        "  def prestar_libro (self,Libro):\n",
        "# creamos una condicional para ver si el libro esta disponible con el argumento disponible\n",
        "    if Libro.Disponible:\n",
        "      self.Prestados.append(Libro)\n",
        "      Libro.estado_libro(False)\n",
        "      print(f\"El libro {Libro.Titulo} fue prestado a {self.Nombre}\")\n",
        "\n",
        "    else:\n",
        "      print(\"El libro no se encuentra disponible para prestamo\")\n",
        "\n",
        "  def devolver_libro(self,Libro):\n",
        "\n",
        "    if Libro in self.Prestados:\n",
        "      self.Prestados.remove(Libro)\n",
        "      Libro.estado_libro(True)\n",
        "      print(f\"El libro {Libro.Titulo} fue devuelto por {self.Nombre}\")\n",
        "\n",
        "    else:\n",
        "       print(\"El libro no se encuentra prestado\")"
      ]
    },
    {
      "cell_type": "markdown",
      "source": [
        "# Casos de uso"
      ],
      "metadata": {
        "id": "hP_nvq7Jyx9W"
      }
    },
    {
      "cell_type": "code",
      "source": [
        "#Creacion de libros y usuarios\n",
        "libro1 = Libro(\"GGM\",\"Cien años de soledad\",\"Novela\")\n",
        "\n",
        "libro2 = Libro(\"William Faulkner\",\"El ruido y la furia\",\"Novela\")\n",
        "\n",
        "usuario1 = Usuario(\"Juan Felipe Bernal\",1019011143,\"jfbernalp@gmail.com\")\n",
        "usuario2 = Usuario(\"Camilo Chaparro\",1019011132,\"camicha@gmail.com\")"
      ],
      "metadata": {
        "id": "ento4HtTBA6m"
      },
      "execution_count": null,
      "outputs": []
    },
    {
      "cell_type": "code",
      "source": [
        "usuario1.prestar_libro (libro1)"
      ],
      "metadata": {
        "colab": {
          "base_uri": "https://localhost:8080/"
        },
        "id": "4R01vxeRGqN1",
        "outputId": "fd949599-c38f-4043-f125-f91441f730d4"
      },
      "execution_count": null,
      "outputs": [
        {
          "output_type": "stream",
          "name": "stdout",
          "text": [
            "El libro Cien años de soledad se encuentra No Disponible\n",
            "El libro Cien años de soledad fue prestado a Juan Felipe Bernal\n"
          ]
        }
      ]
    },
    {
      "cell_type": "code",
      "source": [
        "usuario1.mostrar_usuario()"
      ],
      "metadata": {
        "colab": {
          "base_uri": "https://localhost:8080/"
        },
        "id": "afUgcmeQRdr3",
        "outputId": "d238527d-2a0e-4855-de2e-4e02f4ecc79c"
      },
      "execution_count": null,
      "outputs": [
        {
          "output_type": "stream",
          "name": "stdout",
          "text": [
            "Nombre: Juan Felipe Bernal \n",
            " ID: 1019011143 \n",
            " Email: jfbernalp@gmail.com \n",
            " Libros En posecion: [<__main__.Libro object at 0x7f05bad39750>]\n"
          ]
        }
      ]
    },
    {
      "cell_type": "code",
      "source": [
        "usuario2.prestar_libro(libro1)"
      ],
      "metadata": {
        "colab": {
          "base_uri": "https://localhost:8080/"
        },
        "id": "3GmscBAtyJoE",
        "outputId": "1b1d702f-fd66-426e-9051-9456be0ce1f3"
      },
      "execution_count": null,
      "outputs": [
        {
          "output_type": "stream",
          "name": "stdout",
          "text": [
            "El libro no se encuentra disponible para prestamo\n"
          ]
        }
      ]
    },
    {
      "cell_type": "code",
      "source": [
        "usuario1.devolver_libro(libro1)"
      ],
      "metadata": {
        "colab": {
          "base_uri": "https://localhost:8080/"
        },
        "id": "c-ggVgxdySjd",
        "outputId": "ddfb4c62-5354-4801-d78e-9301fec4e999"
      },
      "execution_count": null,
      "outputs": [
        {
          "output_type": "stream",
          "name": "stdout",
          "text": [
            "El libro Cien años de soledad se encuentra Disponible\n",
            "El libro Cien años de soledad fue devuelto por Juan Felipe Bernal\n"
          ]
        }
      ]
    },
    {
      "cell_type": "code",
      "source": [
        "usuario2.prestar_libro(libro1)\n",
        "usuario2.prestar_libro(libro2)"
      ],
      "metadata": {
        "colab": {
          "base_uri": "https://localhost:8080/"
        },
        "id": "A4zoIV0JyY88",
        "outputId": "fa91535a-5378-4fb5-fe92-5b9864443301"
      },
      "execution_count": null,
      "outputs": [
        {
          "output_type": "stream",
          "name": "stdout",
          "text": [
            "El libro Cien años de soledad se encuentra No Disponible\n",
            "El libro Cien años de soledad fue prestado a Camilo Chaparro\n",
            "El libro El ruido y la furia se encuentra No Disponible\n",
            "El libro El ruido y la furia fue prestado a Camilo Chaparro\n"
          ]
        }
      ]
    },
    {
      "cell_type": "code",
      "source": [
        "usuario2.mostrar_usuario()"
      ],
      "metadata": {
        "colab": {
          "base_uri": "https://localhost:8080/"
        },
        "id": "O91cSPryydqY",
        "outputId": "3a6b3469-12bb-493a-d671-cee92853c32e"
      },
      "execution_count": null,
      "outputs": [
        {
          "output_type": "stream",
          "name": "stdout",
          "text": [
            "Nombre: Camilo Chaparro \n",
            " ID: 1019011132 \n",
            " Email: camicha@gmail.com \n",
            " Libros En posecion: [<__main__.Libro object at 0x7f05bad39750>, <__main__.Libro object at 0x7f05bb568550>]\n"
          ]
        }
      ]
    },
    {
      "cell_type": "markdown",
      "source": [
        "# Extension de usabilidad\n",
        "\n",
        "tomado del tutorial: https://www.youtube.com/watch?v=tZSr-CO3ztg"
      ],
      "metadata": {
        "id": "ji9JlDlX56_d"
      }
    },
    {
      "cell_type": "code",
      "source": [
        "\n",
        "# Clase biblioteca que contendra el catalogo de libros\n",
        "\n",
        "class biblioteca:\n",
        "  def __init__ (self):\n",
        "    self.libros = []\n",
        "    self.usuarios = []\n",
        "    self.bibliotecarios = []\n",
        "\n",
        "  def aggregar_usuario(self,Usuario):\n",
        "\n",
        "    self.usuarios.append(Usuario)\n",
        "    print(f\"Usuario {Usuario.Nombre} ha sido registrado en el sistema\")\n",
        "\n",
        "  def eliminar_usuario(self,Usuario):\n",
        "    if Usuario in self.usuarios:\n",
        "      self.usuarios.remove(Usuario)\n",
        "      print(f\"El usuario {Usuario.Nombre} ha sido removido del sistema\")\n",
        "\n",
        "    else:\n",
        "      print(\"El usuario no se encuentra registrado en el sistema\")\n",
        "\n",
        "  def listar_libros(self):\n",
        "    for l in self.libros:\n",
        "      print(Libro.mostrar_libro())\n",
        "\n",
        "  def listar_usuarios(self):\n",
        "    for u in self.usuarios:\n",
        "      print(Usuario.mostrar_usuario())\n",
        "#Clase biblioteca que contendra catalogo de libros, usuarios, y bibliotecarios\n",
        "\n",
        "class Bibliotecario:\n",
        "  def __init__(self, nombre, id_bibliotecario):\n",
        "    self.nombre = nombre\n",
        "    self.id_bibliotecario = id_bibliotecario\n",
        "\n",
        "  def ingresar_libro (self, biblioteca,Libro):\n",
        "    biblioteca.libros.append(Libro)\n",
        "    print (f\"{Libro.Titulo} agregado al catalogo\")\n",
        "\n",
        "  def eliminar_libro (self,Libro):\n",
        "    if Libro in biblioteca.libros:\n",
        "      biblioteca.libros.remove(Libro)\n",
        "\n",
        "    else:\n",
        "      print(f\"El libro {Libro.Titulo} no se encuentra en el catalogo de la biblioteca\")\n"
      ],
      "metadata": {
        "id": "EmWGCVjV7PxS"
      },
      "execution_count": null,
      "outputs": []
    },
    {
      "cell_type": "markdown",
      "source": [
        "# Caso de uso"
      ],
      "metadata": {
        "id": "nwGiCeHf5a2t"
      }
    },
    {
      "cell_type": "code",
      "source": [
        "biblioteca1 = biblioteca()\n",
        "bibliotecario1 = Bibliotecario(\"Dayanna Rodriguez\",10134534213)"
      ],
      "metadata": {
        "id": "n_zkiG4j5efQ"
      },
      "execution_count": null,
      "outputs": []
    },
    {
      "cell_type": "code",
      "source": [
        "biblioteca1.aggregar_usuario(usuario1)\n",
        "biblioteca1.aggregar_usuario(usuario2)"
      ],
      "metadata": {
        "colab": {
          "base_uri": "https://localhost:8080/"
        },
        "id": "5FRhBfJb5n0c",
        "outputId": "e674d189-beef-4f16-f332-cc00e2747c86"
      },
      "execution_count": null,
      "outputs": [
        {
          "output_type": "stream",
          "name": "stdout",
          "text": [
            "Usuario Juan Felipe Bernal ha sido registrado en el sistema\n",
            "Usuario Camilo Chaparro ha sido registrado en el sistema\n"
          ]
        }
      ]
    },
    {
      "cell_type": "code",
      "source": [
        "bibliotecario1.ingresar_libro(biblioteca1,libro1)\n",
        "bibliotecario1.ingresar_libro(biblioteca1,libro2)"
      ],
      "metadata": {
        "colab": {
          "base_uri": "https://localhost:8080/"
        },
        "id": "ytHP2Hdy7eia",
        "outputId": "bf4e2937-88c2-4713-96b9-6dc5f5e39b7e"
      },
      "execution_count": null,
      "outputs": [
        {
          "output_type": "stream",
          "name": "stdout",
          "text": [
            "Cien años de soledad agregado al catalogo\n",
            "El ruido y la furia agregado al catalogo\n"
          ]
        }
      ]
    },
    {
      "cell_type": "code",
      "source": [
        "biblioteca1.listar_libros()\n",
        "biblioteca1.listar_usuarios()"
      ],
      "metadata": {
        "colab": {
          "base_uri": "https://localhost:8080/",
          "height": 275
        },
        "id": "0xayY8j77xNd",
        "outputId": "1aa0e89e-1e4c-4d70-b5c5-272bfc995a9b"
      },
      "execution_count": null,
      "outputs": [
        {
          "output_type": "error",
          "ename": "TypeError",
          "evalue": "Libro.mostrar_libro() missing 1 required positional argument: 'self'",
          "traceback": [
            "\u001b[0;31m---------------------------------------------------------------------------\u001b[0m",
            "\u001b[0;31mTypeError\u001b[0m                                 Traceback (most recent call last)",
            "\u001b[0;32m<ipython-input-34-cdcd4893c022>\u001b[0m in \u001b[0;36m<cell line: 0>\u001b[0;34m()\u001b[0m\n\u001b[0;32m----> 1\u001b[0;31m \u001b[0mbiblioteca1\u001b[0m\u001b[0;34m.\u001b[0m\u001b[0mlistar_libros\u001b[0m\u001b[0;34m(\u001b[0m\u001b[0;34m)\u001b[0m\u001b[0;34m\u001b[0m\u001b[0;34m\u001b[0m\u001b[0m\n\u001b[0m\u001b[1;32m      2\u001b[0m \u001b[0mbiblioteca1\u001b[0m\u001b[0;34m.\u001b[0m\u001b[0mlistar_usuarios\u001b[0m\u001b[0;34m(\u001b[0m\u001b[0;34m)\u001b[0m\u001b[0;34m\u001b[0m\u001b[0;34m\u001b[0m\u001b[0m\n",
            "\u001b[0;32m<ipython-input-29-5e3c73d85816>\u001b[0m in \u001b[0;36mlistar_libros\u001b[0;34m(self)\u001b[0m\n\u001b[1;32m     22\u001b[0m   \u001b[0;32mdef\u001b[0m \u001b[0mlistar_libros\u001b[0m\u001b[0;34m(\u001b[0m\u001b[0mself\u001b[0m\u001b[0;34m)\u001b[0m\u001b[0;34m:\u001b[0m\u001b[0;34m\u001b[0m\u001b[0;34m\u001b[0m\u001b[0m\n\u001b[1;32m     23\u001b[0m     \u001b[0;32mfor\u001b[0m \u001b[0ml\u001b[0m \u001b[0;32min\u001b[0m \u001b[0mself\u001b[0m\u001b[0;34m.\u001b[0m\u001b[0mlibros\u001b[0m\u001b[0;34m:\u001b[0m\u001b[0;34m\u001b[0m\u001b[0;34m\u001b[0m\u001b[0m\n\u001b[0;32m---> 24\u001b[0;31m       \u001b[0mprint\u001b[0m\u001b[0;34m(\u001b[0m\u001b[0mLibro\u001b[0m\u001b[0;34m.\u001b[0m\u001b[0mmostrar_libro\u001b[0m\u001b[0;34m(\u001b[0m\u001b[0;34m)\u001b[0m\u001b[0;34m)\u001b[0m\u001b[0;34m\u001b[0m\u001b[0;34m\u001b[0m\u001b[0m\n\u001b[0m\u001b[1;32m     25\u001b[0m \u001b[0;34m\u001b[0m\u001b[0m\n\u001b[1;32m     26\u001b[0m   \u001b[0;32mdef\u001b[0m \u001b[0mlistar_usuarios\u001b[0m\u001b[0;34m(\u001b[0m\u001b[0mself\u001b[0m\u001b[0;34m)\u001b[0m\u001b[0;34m:\u001b[0m\u001b[0;34m\u001b[0m\u001b[0;34m\u001b[0m\u001b[0m\n",
            "\u001b[0;31mTypeError\u001b[0m: Libro.mostrar_libro() missing 1 required positional argument: 'self'"
          ]
        }
      ]
    },
    {
      "cell_type": "code",
      "source": [],
      "metadata": {
        "id": "rQH_Itqr8EOh"
      },
      "execution_count": null,
      "outputs": []
    }
  ]
}